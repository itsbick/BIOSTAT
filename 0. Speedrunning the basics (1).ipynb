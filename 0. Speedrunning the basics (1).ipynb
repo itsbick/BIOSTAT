{
 "cells": [
  {
   "cell_type": "markdown",
   "id": "e74b61ce",
   "metadata": {},
   "source": [
    "Hopefully, Jupyter has been installed. Let the speedrunning commence!\n",
    "\n",
    "P.S.: This is a self-contained lesson and a do-along exercise (as well as all the exercises in the future), so perform this on a separate notebook as you go. Submit the notebook afterwards (tmayeng@hnu.edu.ph)."
   ]
  },
  {
   "cell_type": "markdown",
   "id": "3c3253ec",
   "metadata": {},
   "source": [
    "# Basics\n",
    "\n",
    "<hr style=\"height:2px\">"
   ]
  },
  {
   "cell_type": "markdown",
   "id": "94dcc7dd",
   "metadata": {},
   "source": [
    "This is a Markdown cell, *containing text*."
   ]
  },
  {
   "cell_type": "code",
   "execution_count": 1,
   "id": "b7da0d8c",
   "metadata": {},
   "outputs": [
    {
     "name": "stdout",
     "output_type": "stream",
     "text": [
      "Hello world\n",
      "I'm enrolled in a stats class.\n",
      "579\n"
     ]
    }
   ],
   "source": [
    "# this is a code cell, which contains code\n",
    "# this btw is a comment\n",
    "# print() below is a function, and within print() is a value that is to be printed\n",
    "# press Ctrl + Enter or Alt + Enter to run cells or display markdown cells\n",
    "print('Hello world')\n",
    "print(\"I'm enrolled in a stats class.\")\n",
    "print(123 + 456)"
   ]
  },
  {
   "cell_type": "markdown",
   "id": "3407ea56",
   "metadata": {},
   "source": [
    "<br><br>"
   ]
  },
  {
   "cell_type": "markdown",
   "id": "c967ddb4",
   "metadata": {},
   "source": [
    "## Variables"
   ]
  },
  {
   "cell_type": "markdown",
   "id": "ba0b7d7a",
   "metadata": {},
   "source": [
    "Variables are a way to store data (think of a box storing something -- the box is the variable, and the contents inside are the data). Data are stored in variables so they can be used later."
   ]
  },
  {
   "cell_type": "code",
   "execution_count": 2,
   "id": "04fd7980",
   "metadata": {},
   "outputs": [
    {
     "name": "stdout",
     "output_type": "stream",
     "text": [
      "9000\n"
     ]
    }
   ],
   "source": [
    "# variables are declared using the assignment operator =\n",
    "power_level = 9000\n",
    "print(power_level)"
   ]
  },
  {
   "cell_type": "code",
   "execution_count": 3,
   "id": "47a4eb06",
   "metadata": {},
   "outputs": [
    {
     "name": "stdout",
     "output_type": "stream",
     "text": [
      "10000\n"
     ]
    }
   ],
   "source": [
    "# an example of how a variable can be used\n",
    "power_level = power_level + 1000\n",
    "print(power_level)"
   ]
  },
  {
   "cell_type": "code",
   "execution_count": 4,
   "id": "26acaed4",
   "metadata": {},
   "outputs": [
    {
     "name": "stdout",
     "output_type": "stream",
     "text": [
      "It's over 9000!!\n"
     ]
    }
   ],
   "source": [
    "# another example:\n",
    "def meme(measured_power_level):\n",
    "    if measured_power_level > 9000:\n",
    "        print(\"It's over 9000!!\")\n",
    "    else:\n",
    "        print(\"Nah, I'd win!\")\n",
    "\n",
    "# the variable is used here as the argument for the function meme()\n",
    "meme(power_level)  "
   ]
  },
  {
   "cell_type": "markdown",
   "id": "be08697c",
   "metadata": {},
   "source": [
    "<br><br>"
   ]
  },
  {
   "cell_type": "markdown",
   "id": "e01cb1e7",
   "metadata": {},
   "source": [
    "## Python data types"
   ]
  },
  {
   "cell_type": "markdown",
   "id": "b37497c3",
   "metadata": {},
   "source": [
    "There are built-in data types and structures within Python, as well as those coming from packages/libraries."
   ]
  },
  {
   "cell_type": "markdown",
   "id": "33b5066f",
   "metadata": {},
   "source": [
    "### Numeric data types\n",
    "\n",
    "Numbers, obviously, which can usually either be integers (or \"int\"), which are whole numbers and floats, numbers with decimal point."
   ]
  },
  {
   "cell_type": "code",
   "execution_count": 5,
   "id": "1f1b078e",
   "metadata": {},
   "outputs": [
    {
     "name": "stdout",
     "output_type": "stream",
     "text": [
      "1\n",
      "<class 'int'>\n"
     ]
    }
   ],
   "source": [
    "print(1)\n",
    "print(type(1))\n",
    "# type() function prints the type of data"
   ]
  },
  {
   "cell_type": "code",
   "execution_count": 6,
   "id": "9e4bd8fa",
   "metadata": {},
   "outputs": [
    {
     "name": "stdout",
     "output_type": "stream",
     "text": [
      "1.0\n",
      "<class 'float'>\n"
     ]
    }
   ],
   "source": [
    "print(1.0)\n",
    "print(type(1.0))"
   ]
  },
  {
   "cell_type": "code",
   "execution_count": 7,
   "id": "cbef497a",
   "metadata": {},
   "outputs": [
    {
     "data": {
      "text/plain": [
       "0.30000000000000004"
      ]
     },
     "execution_count": 7,
     "metadata": {},
     "output_type": "execute_result"
    }
   ],
   "source": [
    "# sometimes, weird things happen to floats, but as long as the math is okay, it's okay too\n",
    "0.2 + 0.1"
   ]
  },
  {
   "cell_type": "markdown",
   "id": "cf5ea072",
   "metadata": {},
   "source": [
    "### Sequence types\n",
    "\n",
    "This involve a sequence, or a collection, of data. These commonly strings, lists and tuples."
   ]
  },
  {
   "cell_type": "markdown",
   "id": "a604183a",
   "metadata": {},
   "source": [
    "### Strings"
   ]
  },
  {
   "cell_type": "code",
   "execution_count": 8,
   "id": "ebe26ace",
   "metadata": {},
   "outputs": [
    {
     "name": "stdout",
     "output_type": "stream",
     "text": [
      "Hi, my name is...\n"
     ]
    }
   ],
   "source": [
    "# strings are a sequence of characters, bounded by either \"\" or ''\n",
    "print('Hi, my name is...')"
   ]
  },
  {
   "cell_type": "code",
   "execution_count": 9,
   "id": "1a531a8e",
   "metadata": {},
   "outputs": [
    {
     "data": {
      "text/plain": [
       "'DOMAIN EXPANSION: SELF-EMBODIMENT OF PERFECTION'"
      ]
     },
     "execution_count": 9,
     "metadata": {},
     "output_type": "execute_result"
    }
   ],
   "source": [
    "# data types and structures have attributes and methods\n",
    "# rather than focus on actual definitions, think of attributes as \"properties\" of a Python object\n",
    "# and methods as something that Python objects \"can do\"\n",
    "# almost all things in Python is an object\n",
    "\n",
    "# in this example, let's try string methods\n",
    "# this method (.upper()) sets all the characters in the string to uppercase\n",
    "\"domain expansion: self-embodiment of perfection\".upper()"
   ]
  },
  {
   "cell_type": "code",
   "execution_count": 10,
   "id": "39d05905",
   "metadata": {},
   "outputs": [
    {
     "data": {
      "text/plain": [
       "'Moe Moe Kyun'"
      ]
     },
     "execution_count": 10,
     "metadata": {},
     "output_type": "execute_result"
    }
   ],
   "source": [
    "# or title case via .title()\n",
    "\"moe moe kyun\".title()"
   ]
  },
  {
   "cell_type": "code",
   "execution_count": 11,
   "id": "afc2cd81",
   "metadata": {},
   "outputs": [
    {
     "name": "stdout",
     "output_type": "stream",
     "text": [
      "SHINZOU WO SASAGEYO\n"
     ]
    }
   ],
   "source": [
    "# all this of course is applicable to strings stored as variables\n",
    "expression = \"shinzou wo sasageyo\"\n",
    "print(expression.upper())"
   ]
  },
  {
   "cell_type": "code",
   "execution_count": 12,
   "id": "2dd8c88b",
   "metadata": {},
   "outputs": [
    {
     "name": "stdout",
     "output_type": "stream",
     "text": [
      "19\n"
     ]
    }
   ],
   "source": [
    "# to get length of a string\n",
    "print(len(expression))  # this includes the spaces, btw"
   ]
  },
  {
   "cell_type": "markdown",
   "id": "d2bb8811",
   "metadata": {},
   "source": [
    "A special kind of string are f-strings, where values of a variable can be inserted in a string."
   ]
  },
  {
   "cell_type": "code",
   "execution_count": 1,
   "id": "63c10ae6",
   "metadata": {},
   "outputs": [
    {
     "name": "stdout",
     "output_type": "stream",
     "text": [
      "Geto has around 4000 cursed spirits.\n",
      "Geto has around 4100 cursed spirits.\n"
     ]
    }
   ],
   "source": [
    "cursed_spirits = 4000\n",
    "csm = f\"Geto has around {cursed_spirits} cursed spirits.\"\n",
    "print(csm)\n",
    "cursed_spirits += 100\n",
    "print(f'Geto has around {cursed_spirits} cursed spirits.')"
   ]
  },
  {
   "cell_type": "markdown",
   "id": "8f4b8631",
   "metadata": {},
   "source": [
    "### Lists"
   ]
  },
  {
   "cell_type": "markdown",
   "id": "d2373437",
   "metadata": {},
   "source": [
    "Lists are an ordered collection of data (could be numerics, strings, another list, Booleans (see later), etc..) bounded by `[]`."
   ]
  },
  {
   "cell_type": "code",
   "execution_count": 14,
   "id": "0601093c",
   "metadata": {},
   "outputs": [],
   "source": [
    "single_word_albums = ['Continuum', 'Sunbather', 'Damnation', 'Agony', 'Quattro', 'Vagarosa', 'Unavailable', 'Heritage']\n",
    "numbers = [1,2,789,3.1415,667,100]\n",
    "bools = [True, False, True, True, False]\n",
    "weird = ['Malevolent Shrine', True, 123.456789, ['Makima', 'Miss Kobayashi']]"
   ]
  },
  {
   "cell_type": "markdown",
   "id": "5c7146df",
   "metadata": {},
   "source": [
    "Lists are ordered, and thus, its individual elements can be accessed via something called indexing."
   ]
  },
  {
   "cell_type": "code",
   "execution_count": 15,
   "id": "356995ca",
   "metadata": {},
   "outputs": [
    {
     "data": {
      "text/plain": [
       "'Continuum'"
      ]
     },
     "execution_count": 15,
     "metadata": {},
     "output_type": "execute_result"
    }
   ],
   "source": [
    "# this is the syntax\n",
    "# Python uses zero-based indexing, so the first element is 0\n",
    "single_word_albums[0]  # should be Continuum\n",
    "\n",
    "# more on indexing later"
   ]
  },
  {
   "cell_type": "code",
   "execution_count": 16,
   "id": "f0c5eb39",
   "metadata": {},
   "outputs": [
    {
     "data": {
      "text/plain": [
       "8"
      ]
     },
     "execution_count": 16,
     "metadata": {},
     "output_type": "execute_result"
    }
   ],
   "source": [
    "# to determine the length of a list\n",
    "len(single_word_albums)"
   ]
  },
  {
   "cell_type": "code",
   "execution_count": 17,
   "id": "1ebfb125",
   "metadata": {},
   "outputs": [
    {
     "name": "stdout",
     "output_type": "stream",
     "text": [
      "['Continuum', 'Sunbather', 'Damnation', 'Agony', 'Quattro', 'Vagarosa', 'Unavailable', 'Heritage']\n",
      "['Continuum', 'Sunbather', 'Damnation', 'Agony', 'Quattro', 'Vagarosa', 'Unavailable', 'Heritage', 'Scenery']\n"
     ]
    }
   ],
   "source": [
    "# I want to add a 9th album to the list albums\n",
    "# do that via the .append() method\n",
    "print(single_word_albums)\n",
    "single_word_albums.append('Scenery')\n",
    "print(single_word_albums)"
   ]
  },
  {
   "cell_type": "code",
   "execution_count": 18,
   "id": "87af337e",
   "metadata": {},
   "outputs": [
    {
     "name": "stdout",
     "output_type": "stream",
     "text": [
      "['Continuum', 'Sunbather', 'Damnation', 'Agony', 'Quattro', 'Vagarosa', 'Unavailable', 'Heritage', 'Scenery']\n",
      "['Continuum', 'Sunbather', 'Damnation', 'Agony', 'Quattro', 'Vagarosa', 'Unavailable', 'Heritage', 'Scenery', 'Midian', 'Help!']\n"
     ]
    }
   ],
   "source": [
    "# I wanna add more\n",
    "# append() can only accept one addition at a time\n",
    "# in this case, I'll use list concatenation, basically, \"adding\" 2 lists\n",
    "print(single_word_albums)\n",
    "single_word_albums = single_word_albums + ['Midian', 'Help!']\n",
    "print(single_word_albums)"
   ]
  },
  {
   "cell_type": "markdown",
   "id": "c6a0b77c",
   "metadata": {},
   "source": [
    "A list of numbers can also be generated via a range. "
   ]
  },
  {
   "cell_type": "code",
   "execution_count": 19,
   "id": "e00c5262",
   "metadata": {},
   "outputs": [
    {
     "data": {
      "text/plain": [
       "range(1, 10)"
      ]
     },
     "execution_count": 19,
     "metadata": {},
     "output_type": "execute_result"
    }
   ],
   "source": [
    "range(1,10)"
   ]
  },
  {
   "cell_type": "code",
   "execution_count": 20,
   "id": "78139a97",
   "metadata": {},
   "outputs": [
    {
     "data": {
      "text/plain": [
       "[1, 2, 3, 4, 5, 6, 7, 8, 9]"
      ]
     },
     "execution_count": 20,
     "metadata": {},
     "output_type": "execute_result"
    }
   ],
   "source": [
    "# turn that to a list\n",
    "list(range(1,10))"
   ]
  },
  {
   "cell_type": "code",
   "execution_count": 21,
   "id": "de71fc80",
   "metadata": {},
   "outputs": [
    {
     "data": {
      "text/plain": [
       "[1, 2, 3, 4, 5, 6, 7, 8, 9, 10]"
      ]
     },
     "execution_count": 21,
     "metadata": {},
     "output_type": "execute_result"
    }
   ],
   "source": [
    "# in range(1,10), all numbers from 1 to 10 are included, excluding 10\n",
    "# thus to generate 1-10\n",
    "list(range(1,11))"
   ]
  },
  {
   "cell_type": "code",
   "execution_count": 22,
   "id": "c5b21ec4",
   "metadata": {},
   "outputs": [
    {
     "data": {
      "text/plain": [
       "[1, 3, 5, 7, 9, 11, 13, 15, 17, 19]"
      ]
     },
     "execution_count": 22,
     "metadata": {},
     "output_type": "execute_result"
    }
   ],
   "source": [
    "# by default, the gap between one range member and the next (called a \"step\") is one, but this can be changed by adding a third number in the arguments for range\n",
    "list(range(1,20,2))"
   ]
  },
  {
   "cell_type": "code",
   "execution_count": 23,
   "id": "9243d500",
   "metadata": {},
   "outputs": [
    {
     "data": {
      "text/plain": [
       "[1, 8, 15, 22, 29, 36, 43]"
      ]
     },
     "execution_count": 23,
     "metadata": {},
     "output_type": "execute_result"
    }
   ],
   "source": [
    "list(range(1,50,7))"
   ]
  },
  {
   "cell_type": "markdown",
   "id": "3efb1b9e",
   "metadata": {},
   "source": [
    "### Tuples"
   ]
  },
  {
   "cell_type": "markdown",
   "id": "4b2fa4dc",
   "metadata": {},
   "source": [
    "Tuples are like lists, only that items are bound by `()`, and that unlike lists, tuples are immutable (tuple elements can't be changed)."
   ]
  },
  {
   "cell_type": "code",
   "execution_count": 24,
   "id": "83ce3085",
   "metadata": {},
   "outputs": [],
   "source": [
    "annoying_list = ['Floch', 'Mahito', 'Pitou']\n",
    "annoying_tuple = ('Floch', 'Mahito', 'Pitou')"
   ]
  },
  {
   "cell_type": "code",
   "execution_count": 25,
   "id": "d15bc9e7",
   "metadata": {},
   "outputs": [
    {
     "name": "stdout",
     "output_type": "stream",
     "text": [
      "['Floch', 'Mahito', 'Pitou']\n",
      "['Floch', 'Mahito', 'Shaiapouf']\n"
     ]
    }
   ],
   "source": [
    "# suppose I wanna swap Pitou for Shaiapouf\n",
    "# I can do that for lists, but not for tuples\n",
    "print(annoying_list)\n",
    "annoying_list[2] = 'Shaiapouf'  # annoying_list[2] is Pitou, but I am overwriting\n",
    "print(annoying_list)"
   ]
  },
  {
   "cell_type": "code",
   "execution_count": 26,
   "id": "63ea10d1",
   "metadata": {},
   "outputs": [
    {
     "ename": "TypeError",
     "evalue": "'tuple' object does not support item assignment",
     "output_type": "error",
     "traceback": [
      "\u001b[1;31m---------------------------------------------------------------------------\u001b[0m",
      "\u001b[1;31mTypeError\u001b[0m                                 Traceback (most recent call last)",
      "Cell \u001b[1;32mIn [26], line 1\u001b[0m\n\u001b[1;32m----> 1\u001b[0m \u001b[43mannoying_tuple\u001b[49m\u001b[43m[\u001b[49m\u001b[38;5;241;43m2\u001b[39;49m\u001b[43m]\u001b[49m \u001b[38;5;241m=\u001b[39m \u001b[38;5;124m'\u001b[39m\u001b[38;5;124mShaiapouf\u001b[39m\u001b[38;5;124m'\u001b[39m  \u001b[38;5;66;03m# this spits out an error\u001b[39;00m\n",
      "\u001b[1;31mTypeError\u001b[0m: 'tuple' object does not support item assignment"
     ]
    }
   ],
   "source": [
    "annoying_tuple[2] = 'Shaiapouf'  # this spits out an error"
   ]
  },
  {
   "cell_type": "markdown",
   "id": "2f6b3141",
   "metadata": {},
   "source": [
    "### Indexing and slicing\n",
    "\n",
    "Sequence types can be indexed, that is, the $i$th element can be accessed. Indexing can be extended to include more than one item (basically a subset of the entire string/list/tuple) via slicing."
   ]
  },
  {
   "cell_type": "code",
   "execution_count": 27,
   "id": "bab7b5a2",
   "metadata": {},
   "outputs": [
    {
     "name": "stdout",
     "output_type": "stream",
     "text": [
      "s\n",
      "i\n",
      "g\n"
     ]
    }
   ],
   "source": [
    "# indexing a string\n",
    "word = 'supercalifragilisticexpialidocious'\n",
    "print(word[0])\n",
    "print(word[23])\n",
    "print(word[12])"
   ]
  },
  {
   "cell_type": "code",
   "execution_count": 28,
   "id": "a06320c2",
   "metadata": {},
   "outputs": [
    {
     "name": "stdout",
     "output_type": "stream",
     "text": [
      "s\n",
      "u\n"
     ]
    }
   ],
   "source": [
    "# indexing the last letter\n",
    "print(word[-1])\n",
    "# second to the last\n",
    "print(word[-2])"
   ]
  },
  {
   "cell_type": "code",
   "execution_count": 29,
   "id": "438c6296",
   "metadata": {},
   "outputs": [
    {
     "name": "stdout",
     "output_type": "stream",
     "text": [
      "super\n"
     ]
    }
   ],
   "source": [
    "# slicing a string\n",
    "# take note of the syntax [:], to the left is the start, and to the right is the end, but excludes\n",
    "print(word[0:5])  # first 5 letters, or 0, 1, 2, 3, 4, excluding 5"
   ]
  },
  {
   "cell_type": "code",
   "execution_count": 30,
   "id": "3b2cc924",
   "metadata": {},
   "outputs": [
    {
     "name": "stdout",
     "output_type": "stream",
     "text": [
      "supercalifragilisticexpialidocious\n",
      "seafgiixadis\n",
      "suoicodilaipxecitsiligarfilacrepus\n",
      "rfilacrep\n"
     ]
    }
   ],
   "source": [
    "# other slicing examples\n",
    "\n",
    "# slice which includes everything\n",
    "print(word[:])\n",
    "\n",
    "# slice at every third letter\n",
    "# this requires the syntax[::]\n",
    "print(word[::3])\n",
    "\n",
    "# slice backwards\n",
    "print(word[::-1])\n",
    "\n",
    "# slice backwards from index 10 (11th letter) to index 2 (3rd letter)\n",
    "print(word[10:1:-1])"
   ]
  },
  {
   "cell_type": "code",
   "execution_count": 31,
   "id": "be370a94",
   "metadata": {},
   "outputs": [
    {
     "name": "stdout",
     "output_type": "stream",
     "text": [
      "['Sunbather', 'Damnation', 'Agony', 'Quattro', 'Vagarosa']\n",
      "['Unavailable', 'Vagarosa', 'Quattro', 'Agony', 'Damnation', 'Sunbather', 'Continuum']\n"
     ]
    }
   ],
   "source": [
    "# the same principle applies to lists and tuples\n",
    "print(single_word_albums[1:6])\n",
    "print(single_word_albums[6::-1])"
   ]
  },
  {
   "cell_type": "markdown",
   "id": "02cdb9de",
   "metadata": {},
   "source": [
    "### Sequence type length"
   ]
  },
  {
   "cell_type": "code",
   "execution_count": 32,
   "id": "7e7f0ce8",
   "metadata": {},
   "outputs": [
    {
     "name": "stdout",
     "output_type": "stream",
     "text": [
      "34\n",
      "11\n",
      "3\n"
     ]
    }
   ],
   "source": [
    "print(len(word))\n",
    "print(len(single_word_albums))\n",
    "print(len(annoying_tuple))"
   ]
  },
  {
   "cell_type": "markdown",
   "id": "9525860b",
   "metadata": {},
   "source": [
    "### Booleans\n",
    "\n",
    "Either `True` or `False` (note, these two values are written with the \"\" or '' of strings, because they are not!). These will be encountered when comparing values via operators (later) or when using conditions."
   ]
  },
  {
   "cell_type": "markdown",
   "id": "e9257a1c",
   "metadata": {},
   "source": [
    "### Sets"
   ]
  },
  {
   "cell_type": "markdown",
   "id": "1ea8a050",
   "metadata": {},
   "source": [
    "Sets are a little like lists, although they are unordered and will not contain duplicates."
   ]
  },
  {
   "cell_type": "code",
   "execution_count": 33,
   "id": "53bd1e7e",
   "metadata": {},
   "outputs": [
    {
     "name": "stdout",
     "output_type": "stream",
     "text": [
      "['Continuum', 'Sunbather', 'Damnation', 'Agony', 'Quattro', 'Vagarosa', 'Unavailable', 'Heritage', 'Scenery', 'Midian', 'Help!']\n"
     ]
    }
   ],
   "source": [
    "print(single_word_albums)"
   ]
  },
  {
   "cell_type": "code",
   "execution_count": 34,
   "id": "eac2da60",
   "metadata": {},
   "outputs": [
    {
     "name": "stdout",
     "output_type": "stream",
     "text": [
      "['John Mayer', 'Deafheaven', 'Opeth', 'Fleshgod Apocalypse', 'Paris Match', 'Ceu', 'A Picture of Her', 'Opeth', 'Ryo Fukui', 'Cradle of Filth', 'The Beatles']\n",
      "{'Opeth', 'Deafheaven', 'The Beatles', 'Paris Match', 'A Picture of Her', 'Fleshgod Apocalypse', 'Cradle of Filth', 'Ceu', 'Ryo Fukui', 'John Mayer'}\n"
     ]
    }
   ],
   "source": [
    "# the artists from the albums\n",
    "artists = ['John Mayer', 'Deafheaven', 'Opeth', 'Fleshgod Apocalypse', 'Paris Match', 'Ceu', 'A Picture of Her', 'Opeth', 'Ryo Fukui', 'Cradle of Filth', 'The Beatles']\n",
    "# yes, there are 2 Opeth albums here\n",
    "# to demonstrate that sets eliminate redundancies\n",
    "\n",
    "print(artists)\n",
    "set_artists = set(artists)\n",
    "print(set_artists)"
   ]
  },
  {
   "cell_type": "markdown",
   "id": "2ba33b71",
   "metadata": {},
   "source": [
    "### Dictionary\n",
    "\n",
    "A dictionary is an unordered collection, containing a key-value pair (bounded by `{}`)."
   ]
  },
  {
   "cell_type": "code",
   "execution_count": 35,
   "id": "b8a4163e",
   "metadata": {},
   "outputs": [
    {
     "name": "stdout",
     "output_type": "stream",
     "text": [
      "{'Hisoka Morow': 'Bungee Gum (Elastic Love)', 'Chrollo Lucilfer': \"Skill Hunter (Bandit's Secret)\", 'Biscuit Krueger': 'Magical Spa Services', 'Kortopi': 'Gallery Fake (Divine Left Hand, Demonic Right Hand)', 'Isaac Netero': '100-Type Guanyin Bodhisattva', 'Genthru': 'Little Flower'}\n"
     ]
    }
   ],
   "source": [
    "hatsu = {\n",
    "    'Hisoka Morow': 'Bungee Gum (Elastic Love)',\n",
    "    'Chrollo Lucilfer': \"Skill Hunter (Bandit's Secret)\",\n",
    "    'Biscuit Krueger': 'Magical Spa Services',\n",
    "    'Kortopi': \"Gallery Fake (Divine Left Hand, Demonic Right Hand)\",\n",
    "    'Isaac Netero': '100-Type Guanyin Bodhisattva',\n",
    "    'Genthru': 'Little Flower'\n",
    "}\n",
    "\n",
    "print(hatsu)"
   ]
  },
  {
   "cell_type": "markdown",
   "id": "4c79c7d6",
   "metadata": {},
   "source": [
    "<br><br>"
   ]
  },
  {
   "cell_type": "markdown",
   "id": "7a2eb472",
   "metadata": {},
   "source": [
    "## Operations\n",
    "\n",
    "Python is a calculator!"
   ]
  },
  {
   "cell_type": "markdown",
   "id": "7dd28b13",
   "metadata": {},
   "source": [
    "### Numerics"
   ]
  },
  {
   "cell_type": "code",
   "execution_count": 36,
   "id": "8d826808",
   "metadata": {},
   "outputs": [
    {
     "data": {
      "text/plain": [
       "2"
      ]
     },
     "execution_count": 36,
     "metadata": {},
     "output_type": "execute_result"
    }
   ],
   "source": [
    "1+1"
   ]
  },
  {
   "cell_type": "code",
   "execution_count": 37,
   "id": "b3a9427c",
   "metadata": {},
   "outputs": [
    {
     "name": "stdout",
     "output_type": "stream",
     "text": [
      "4\n",
      "0\n",
      "4\n",
      "1.0\n"
     ]
    }
   ],
   "source": [
    "# the usual arithmetic\n",
    "print(2+2)\n",
    "print(2-2)\n",
    "print(2*2)\n",
    "print(2/2)"
   ]
  },
  {
   "cell_type": "code",
   "execution_count": 38,
   "id": "71104043",
   "metadata": {},
   "outputs": [
    {
     "data": {
      "text/plain": [
       "9"
      ]
     },
     "execution_count": 38,
     "metadata": {},
     "output_type": "execute_result"
    }
   ],
   "source": [
    "# not so usual\n",
    "# exponentiation\n",
    "# 3 squared\n",
    "3**2"
   ]
  },
  {
   "cell_type": "code",
   "execution_count": 39,
   "id": "d4244811",
   "metadata": {},
   "outputs": [
    {
     "data": {
      "text/plain": [
       "1"
      ]
     },
     "execution_count": 39,
     "metadata": {},
     "output_type": "execute_result"
    }
   ],
   "source": [
    "# remainder\n",
    "11 % 2"
   ]
  },
  {
   "cell_type": "code",
   "execution_count": 40,
   "id": "fc67e0a0",
   "metadata": {},
   "outputs": [
    {
     "data": {
      "text/plain": [
       "5"
      ]
     },
     "execution_count": 40,
     "metadata": {},
     "output_type": "execute_result"
    }
   ],
   "source": [
    "# floor division\n",
    "# gets the whole number and rejects the remainder\n",
    "11 // 2"
   ]
  },
  {
   "cell_type": "code",
   "execution_count": 41,
   "id": "30e1f8bd",
   "metadata": {},
   "outputs": [
    {
     "data": {
      "text/plain": [
       "3.0"
      ]
     },
     "execution_count": 41,
     "metadata": {},
     "output_type": "execute_result"
    }
   ],
   "source": [
    "# square root?\n",
    "# remember, an nth root means raising a number to 1/n\n",
    "9**(1/2)"
   ]
  },
  {
   "cell_type": "markdown",
   "id": "771adf7b",
   "metadata": {},
   "source": [
    "### Sequence types"
   ]
  },
  {
   "cell_type": "code",
   "execution_count": 42,
   "id": "f1bc8468",
   "metadata": {},
   "outputs": [
    {
     "data": {
      "text/plain": [
       "'Nani???'"
      ]
     },
     "execution_count": 42,
     "metadata": {},
     "output_type": "execute_result"
    }
   ],
   "source": [
    "# string concatenation\n",
    "'Nani' + '???'"
   ]
  },
  {
   "cell_type": "code",
   "execution_count": 43,
   "id": "5654a695",
   "metadata": {},
   "outputs": [
    {
     "data": {
      "text/plain": [
       "'Helloworld!'"
      ]
     },
     "execution_count": 43,
     "metadata": {},
     "output_type": "execute_result"
    }
   ],
   "source": [
    "'Hello' + 'world!'"
   ]
  },
  {
   "cell_type": "code",
   "execution_count": 44,
   "id": "a71aa572",
   "metadata": {},
   "outputs": [
    {
     "data": {
      "text/plain": [
       "'Hello world!'"
      ]
     },
     "execution_count": 44,
     "metadata": {},
     "output_type": "execute_result"
    }
   ],
   "source": [
    "# thus, either add a space or already incorporate the space\n",
    "'Hello' + ' ' + 'world!'"
   ]
  },
  {
   "cell_type": "code",
   "execution_count": 45,
   "id": "c736e196",
   "metadata": {},
   "outputs": [
    {
     "data": {
      "text/plain": [
       "'Hello world!'"
      ]
     },
     "execution_count": 45,
     "metadata": {},
     "output_type": "execute_result"
    }
   ],
   "source": [
    "'Hello' + ' world!'"
   ]
  },
  {
   "cell_type": "code",
   "execution_count": 46,
   "id": "8f6910e0",
   "metadata": {},
   "outputs": [
    {
     "data": {
      "text/plain": [
       "['Eren Yeager',\n",
       " 'Mikasa Ackerman',\n",
       " 'Armin Arlert',\n",
       " 'Erwin Smith',\n",
       " 'Levi Ackerman',\n",
       " 'Hange Zoe']"
      ]
     },
     "execution_count": 46,
     "metadata": {},
     "output_type": "execute_result"
    }
   ],
   "source": [
    "# list concatenation\n",
    "['Eren Yeager', 'Mikasa Ackerman', 'Armin Arlert'] + ['Erwin Smith', 'Levi Ackerman', 'Hange Zoe']"
   ]
  },
  {
   "cell_type": "markdown",
   "id": "c122fc08",
   "metadata": {},
   "source": [
    "### Other operators"
   ]
  },
  {
   "cell_type": "code",
   "execution_count": 47,
   "id": "55c6a993",
   "metadata": {},
   "outputs": [
    {
     "name": "stdout",
     "output_type": "stream",
     "text": [
      "My name is...\n"
     ]
    }
   ],
   "source": [
    "# assignment\n",
    "name = 'My name is...'\n",
    "print(name)"
   ]
  },
  {
   "cell_type": "code",
   "execution_count": 48,
   "id": "a9b8b5f4",
   "metadata": {},
   "outputs": [
    {
     "name": "stdout",
     "output_type": "stream",
     "text": [
      "10\n",
      "10\n"
     ]
    }
   ],
   "source": [
    "# simplified\n",
    "x = 5\n",
    "x = x + 5\n",
    "print(x)\n",
    "y = 5\n",
    "y += 5  # instead of y = y + 5\n",
    "print(y)"
   ]
  },
  {
   "cell_type": "code",
   "execution_count": 49,
   "id": "bce67dd8",
   "metadata": {},
   "outputs": [
    {
     "name": "stdout",
     "output_type": "stream",
     "text": [
      "8\n",
      "20\n",
      "10.0\n"
     ]
    }
   ],
   "source": [
    "y -= 2\n",
    "print(y)\n",
    "x *= 2\n",
    "print(x)\n",
    "x /= 2\n",
    "print(x)"
   ]
  },
  {
   "cell_type": "markdown",
   "id": "e9ca5ddb",
   "metadata": {},
   "source": [
    "### Comparison operators\n",
    "\n",
    "Yields only True or False"
   ]
  },
  {
   "cell_type": "code",
   "execution_count": 50,
   "id": "6232dc39",
   "metadata": {},
   "outputs": [
    {
     "name": "stdout",
     "output_type": "stream",
     "text": [
      "False\n",
      "True\n",
      "False\n",
      "False\n",
      "True\n",
      "True\n"
     ]
    }
   ],
   "source": [
    "print(3 == 2)  # == means is equal to (equality operator, double equal or ==, different from assignment operator, =)\n",
    "print(3 != 2)  # != means not equal to\n",
    "print(3 < 2)\n",
    "print(3 <= 2)\n",
    "print(3 > 2)\n",
    "print(3 >= 2)"
   ]
  },
  {
   "cell_type": "code",
   "execution_count": 51,
   "id": "cb2f584f",
   "metadata": {},
   "outputs": [
    {
     "name": "stdout",
     "output_type": "stream",
     "text": [
      "True\n",
      "False\n",
      "False\n",
      "True\n",
      "True\n",
      "False\n",
      "False\n"
     ]
    }
   ],
   "source": [
    "# comparison can be done on strings too!\n",
    "print('Makima' == 'Makima')\n",
    "print('Makima' == 'makima')  # case-sensitive, so take note!\n",
    "print('Makima' == 'makima'.upper())\n",
    "print('Makima' == 'makima'.title())\n",
    "name = 'Makima'\n",
    "print(name == 'Makima')  # comparison can be done on variables too!\n",
    "print(name != 'Makima')\n",
    "print(name == 'Makima ')  # take note of the extra space!"
   ]
  },
  {
   "cell_type": "markdown",
   "id": "3a79058a",
   "metadata": {},
   "source": [
    "<br><br><br>"
   ]
  },
  {
   "cell_type": "markdown",
   "id": "eca6eb29",
   "metadata": {},
   "source": [
    "## Documentation\n",
    "\n",
    "When confused with functions and the like, look up Python documentation online"
   ]
  },
  {
   "cell_type": "markdown",
   "id": "98a02334",
   "metadata": {},
   "source": [
    "<br><br><br>"
   ]
  },
  {
   "cell_type": "markdown",
   "id": "bad69492",
   "metadata": {},
   "source": [
    "-- End of lesson --"
   ]
  },
  {
   "cell_type": "code",
   "execution_count": null,
   "id": "7abd5d46",
   "metadata": {},
   "outputs": [],
   "source": []
  },
  {
   "cell_type": "code",
   "execution_count": null,
   "id": "f653aa9c",
   "metadata": {},
   "outputs": [],
   "source": []
  }
 ],
 "metadata": {
  "kernelspec": {
   "display_name": "Python 3 (ipykernel)",
   "language": "python",
   "name": "python3"
  },
  "language_info": {
   "codemirror_mode": {
    "name": "ipython",
    "version": 3
   },
   "file_extension": ".py",
   "mimetype": "text/x-python",
   "name": "python",
   "nbconvert_exporter": "python",
   "pygments_lexer": "ipython3",
   "version": "3.11.5"
  }
 },
 "nbformat": 4,
 "nbformat_minor": 5
}
