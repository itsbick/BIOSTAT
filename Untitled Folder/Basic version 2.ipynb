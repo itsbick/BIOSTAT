{
 "cells": [
  {
   "cell_type": "code",
   "execution_count": 1,
   "id": "2bb7093a",
   "metadata": {},
   "outputs": [
    {
     "data": {
      "text/plain": [
       "88"
      ]
     },
     "execution_count": 1,
     "metadata": {},
     "output_type": "execute_result"
    }
   ],
   "source": [
    "forearm_length =88\n",
    "forearm_length"
   ]
  },
  {
   "cell_type": "code",
   "execution_count": 2,
   "id": "d86a4b46",
   "metadata": {},
   "outputs": [
    {
     "name": "stdout",
     "output_type": "stream",
     "text": [
      "88\n"
     ]
    }
   ],
   "source": [
    "print (forearm_length)"
   ]
  },
  {
   "cell_type": "code",
   "execution_count": 9,
   "id": "bf7a636f",
   "metadata": {},
   "outputs": [
    {
     "name": "stdout",
     "output_type": "stream",
     "text": [
      "Enter your grade\n"
     ]
    }
   ],
   "source": [
    "numfloat = (\"Enter your grade\")\n",
    "print(numfloat)"
   ]
  },
  {
   "cell_type": "code",
   "execution_count": 13,
   "id": "45167f27",
   "metadata": {},
   "outputs": [
    {
     "name": "stdout",
     "output_type": "stream",
     "text": [
      "enter your grade\n"
     ]
    }
   ],
   "source": [
    "name= \"Baslote, Michelle\"\n",
    "print(numfloat)"
   ]
  },
  {
   "cell_type": "code",
   "execution_count": 18,
   "id": "2343bf1e",
   "metadata": {},
   "outputs": [
    {
     "name": "stdout",
     "output_type": "stream",
     "text": [
      "Michelle, baslote\n"
     ]
    }
   ],
   "source": [
    "name= \"Michelle, baslote\"\n",
    "print(name)"
   ]
  },
  {
   "cell_type": "code",
   "execution_count": 19,
   "id": "183fb2c7",
   "metadata": {},
   "outputs": [
    {
     "data": {
      "text/plain": [
       "'PRETTY'"
      ]
     },
     "execution_count": 19,
     "metadata": {},
     "output_type": "execute_result"
    }
   ],
   "source": [
    "'Pretty'. upper()"
   ]
  },
  {
   "cell_type": "code",
   "execution_count": 20,
   "id": "86790860",
   "metadata": {},
   "outputs": [
    {
     "data": {
      "text/plain": [
       "'When Things Get Really Taught, Then Never Give Up'"
      ]
     },
     "execution_count": 20,
     "metadata": {},
     "output_type": "execute_result"
    }
   ],
   "source": [
    "qoute = \"When things get really taught, then never give up\"\n",
    "qoute.title()"
   ]
  },
  {
   "cell_type": "code",
   "execution_count": 21,
   "id": "45dd313b",
   "metadata": {},
   "outputs": [
    {
     "data": {
      "text/plain": [
       "12"
      ]
     },
     "execution_count": 21,
     "metadata": {},
     "output_type": "execute_result"
    }
   ],
   "source": [
    "some_string = 'Have courage'\n",
    "len(some_string)"
   ]
  },
  {
   "cell_type": "code",
   "execution_count": 22,
   "id": "d6909e1c",
   "metadata": {},
   "outputs": [
    {
     "data": {
      "text/plain": [
       "15"
      ]
     },
     "execution_count": 22,
     "metadata": {},
     "output_type": "execute_result"
    }
   ],
   "source": [
    "string = 'Bbbbrraaavveeee'\n",
    "len(string)"
   ]
  },
  {
   "cell_type": "code",
   "execution_count": 23,
   "id": "e18e74bd",
   "metadata": {},
   "outputs": [
    {
     "name": "stdout",
     "output_type": "stream",
     "text": [
      "[4, 8, 10]\n"
     ]
    }
   ],
   "source": [
    "even = [4,8,10]\n",
    "print (even)"
   ]
  },
  {
   "cell_type": "code",
   "execution_count": 25,
   "id": "d6f86b8d",
   "metadata": {},
   "outputs": [
    {
     "name": "stdout",
     "output_type": "stream",
     "text": [
      "['Jovriel', 'Mira', 'Johann']\n"
     ]
    }
   ],
   "source": [
    "Tapad = ['Jovriel','Mira','Johann']\n",
    "print (Tapad)"
   ]
  },
  {
   "cell_type": "code",
   "execution_count": 26,
   "id": "a4e6e208",
   "metadata": {},
   "outputs": [
    {
     "name": "stdout",
     "output_type": "stream",
     "text": [
      "[2.3, 4.6, 6.5, 8.9, 10.2]\n"
     ]
    }
   ],
   "source": [
    "numfloat = [2.3, 4.6, 6.5, 8.9, 10.20]\n",
    "print(numfloat)"
   ]
  },
  {
   "cell_type": "code",
   "execution_count": 32,
   "id": "a228b381",
   "metadata": {},
   "outputs": [
    {
     "name": "stdout",
     "output_type": "stream",
     "text": [
      "['Fruit', 'Vegetable', 60000, True, ['Grapes', 'Carrots', 200000]]\n"
     ]
    }
   ],
   "source": [
    "My_List = ['Fruit', 'Vegetable', 60000, True, ['Grapes', 'Carrots', 200000]]\n",
    "print (My_List)"
   ]
  },
  {
   "cell_type": "code",
   "execution_count": 34,
   "id": "b143dc5e",
   "metadata": {},
   "outputs": [
    {
     "data": {
      "text/plain": [
       "[1,\n",
       " 2,\n",
       " 3,\n",
       " 4,\n",
       " 5,\n",
       " 6,\n",
       " 7,\n",
       " 8,\n",
       " 9,\n",
       " 10,\n",
       " 11,\n",
       " 12,\n",
       " 13,\n",
       " 14,\n",
       " 15,\n",
       " 16,\n",
       " 17,\n",
       " 18,\n",
       " 19,\n",
       " 20,\n",
       " 21,\n",
       " 22,\n",
       " 23,\n",
       " 24,\n",
       " 25,\n",
       " 26,\n",
       " 27,\n",
       " 28,\n",
       " 29,\n",
       " 30,\n",
       " 31,\n",
       " 32,\n",
       " 33,\n",
       " 34,\n",
       " 35,\n",
       " 36,\n",
       " 37,\n",
       " 38,\n",
       " 39,\n",
       " 40,\n",
       " 41,\n",
       " 42,\n",
       " 43,\n",
       " 44,\n",
       " 45,\n",
       " 46,\n",
       " 47,\n",
       " 48,\n",
       " 49,\n",
       " 50,\n",
       " 51,\n",
       " 52,\n",
       " 53,\n",
       " 54,\n",
       " 55,\n",
       " 56,\n",
       " 57,\n",
       " 58,\n",
       " 59,\n",
       " 60,\n",
       " 61,\n",
       " 62,\n",
       " 63,\n",
       " 64,\n",
       " 65,\n",
       " 66,\n",
       " 67,\n",
       " 68,\n",
       " 69,\n",
       " 70,\n",
       " 71,\n",
       " 72,\n",
       " 73,\n",
       " 74,\n",
       " 75,\n",
       " 76,\n",
       " 77,\n",
       " 78,\n",
       " 79,\n",
       " 80,\n",
       " 81,\n",
       " 82]"
      ]
     },
     "execution_count": 34,
     "metadata": {},
     "output_type": "execute_result"
    }
   ],
   "source": [
    "list(range(1,83))"
   ]
  },
  {
   "cell_type": "code",
   "execution_count": 36,
   "id": "5d29a0f7",
   "metadata": {},
   "outputs": [
    {
     "data": {
      "text/plain": [
       "[1, 2, 3, 4, 5, 6, 7, 8, 9, 10]"
      ]
     },
     "execution_count": 36,
     "metadata": {},
     "output_type": "execute_result"
    }
   ],
   "source": [
    "list (range(1,11))"
   ]
  },
  {
   "cell_type": "code",
   "execution_count": 37,
   "id": "c8b9cccf",
   "metadata": {},
   "outputs": [
    {
     "data": {
      "text/plain": [
       "[2, 4, 6, 8, 10, 12, 14, 16, 18, 20, 22, 24, 26, 28, 30, 32, 34, 36, 38, 40]"
      ]
     },
     "execution_count": 37,
     "metadata": {},
     "output_type": "execute_result"
    }
   ],
   "source": [
    "list (range(2,41,2))"
   ]
  },
  {
   "cell_type": "code",
   "execution_count": 38,
   "id": "a53bd020",
   "metadata": {},
   "outputs": [
    {
     "name": "stdout",
     "output_type": "stream",
     "text": [
      "['Nana', 'Franco', 'Eudora']\n",
      "('Miya', 'Layla', 'chou')\n"
     ]
    }
   ],
   "source": [
    "#list\n",
    "heroes = ['Nana', 'Franco', 'Eudora']\n",
    "\n",
    "#tuple\n",
    "heroes2 = ('Miya', 'Layla', 'chou')\n",
    "\n",
    "print(heroes)\n",
    "print(heroes2)"
   ]
  },
  {
   "cell_type": "code",
   "execution_count": 39,
   "id": "8c280ea5",
   "metadata": {},
   "outputs": [
    {
     "data": {
      "text/plain": [
       "['Nana', 'Franco', 'Karina']"
      ]
     },
     "execution_count": 39,
     "metadata": {},
     "output_type": "execute_result"
    }
   ],
   "source": [
    "#change\n",
    "heroes[2]= 'Karina'\n",
    "heroes"
   ]
  },
  {
   "cell_type": "code",
   "execution_count": 40,
   "id": "7d38a943",
   "metadata": {},
   "outputs": [
    {
     "name": "stdout",
     "output_type": "stream",
     "text": [
      "['Mira', 'Jovriel', 'Johann']\n"
     ]
    }
   ],
   "source": [
    "classmates = ['Mira', 'Jovriel', 'Johann']\n",
    "print (classmates)"
   ]
  },
  {
   "cell_type": "code",
   "execution_count": 41,
   "id": "ec4a90c8",
   "metadata": {},
   "outputs": [
    {
     "data": {
      "text/plain": [
       "['Mira', 'Arvelyn', 'Johann']"
      ]
     },
     "execution_count": 41,
     "metadata": {},
     "output_type": "execute_result"
    }
   ],
   "source": [
    "classmates[1] = 'Arvelyn'\n",
    "classmates"
   ]
  },
  {
   "cell_type": "code",
   "execution_count": 43,
   "id": "397732aa",
   "metadata": {},
   "outputs": [
    {
     "data": {
      "text/plain": [
       "['Justine', 'Arvelyn', 'Johann']"
      ]
     },
     "execution_count": 43,
     "metadata": {},
     "output_type": "execute_result"
    }
   ],
   "source": [
    "classmates[0]= 'Justine'\n",
    "classmates"
   ]
  },
  {
   "cell_type": "code",
   "execution_count": 50,
   "id": "79c652c9",
   "metadata": {},
   "outputs": [],
   "source": [
    "#indexing\n",
    "troupe = ['Naruto', 'Sasuke', 'Sakura', 'Jiraiya']"
   ]
  },
  {
   "cell_type": "code",
   "execution_count": 51,
   "id": "256c0a43",
   "metadata": {},
   "outputs": [
    {
     "data": {
      "text/plain": [
       "'Jiraiya'"
      ]
     },
     "execution_count": 51,
     "metadata": {},
     "output_type": "execute_result"
    }
   ],
   "source": [
    "troupe[3]"
   ]
  },
  {
   "cell_type": "code",
   "execution_count": 52,
   "id": "8f44100e",
   "metadata": {},
   "outputs": [
    {
     "data": {
      "text/plain": [
       "'Naruto'"
      ]
     },
     "execution_count": 52,
     "metadata": {},
     "output_type": "execute_result"
    }
   ],
   "source": [
    "troupe[0]"
   ]
  },
  {
   "cell_type": "code",
   "execution_count": 54,
   "id": "719ac1d5",
   "metadata": {},
   "outputs": [
    {
     "data": {
      "text/plain": [
       "'Sakura'"
      ]
     },
     "execution_count": 54,
     "metadata": {},
     "output_type": "execute_result"
    }
   ],
   "source": [
    "troupe[2]"
   ]
  },
  {
   "cell_type": "code",
   "execution_count": null,
   "id": "d7f8e103",
   "metadata": {},
   "outputs": [],
   "source": []
  }
 ],
 "metadata": {
  "kernelspec": {
   "display_name": "Python 3 (ipykernel)",
   "language": "python",
   "name": "python3"
  },
  "language_info": {
   "codemirror_mode": {
    "name": "ipython",
    "version": 3
   },
   "file_extension": ".py",
   "mimetype": "text/x-python",
   "name": "python",
   "nbconvert_exporter": "python",
   "pygments_lexer": "ipython3",
   "version": "3.11.5"
  }
 },
 "nbformat": 4,
 "nbformat_minor": 5
}
