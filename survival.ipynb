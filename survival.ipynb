import pandas as pd # pd is the usual name 
import numpy as np # again, name

#5. Perform the same things in number 3, but for Survival.txt (link: https://ics.uci.edu/~babaks/BWR/Home_files/Survival.txt). CAUTION: Make sure that you are using the correct separator here, which is a SPACE.
survival = pd.read_csv('https://ics.uci.edu/~babaks/BWR/Home_files/Survival.txt', sep = ' ') 
survival

#GIVES THE DIMENSION
survival.shape

#THE COLUMNS CAN BE LISTED 
survival.columns

#DATA TYPES OF VARIABLES
survival.dtypes

survival.head()

survival.tail()

survival.info()

survival.describe()

# case 1, taking just a single column

# can be like this
survival['Status']

#Create two slices of the dataframe in number 5, based on the status. (The column Status has two unique values, alive and died, so create two dataframes, in the first dataframe, all values in the Status column should be "alive", and in the second dataframe, all values in the Status column should be "died".)
survival[survival['Status'] == 'alive']

survival[survival['Status'] == 'died']

#Access birthwt.txt (link: https://ics.uci.edu/~babaks/BWR/Home_files/birthwt.txt). CAUTION: Make sure that you are using the correct separator here, which is a SPACE. Create however many slices you can based on the values of the following coded categorical variables (choose just one coded categorical variable, and yeah, it's up to you):
birthwt = pd.read_csv('https://ics.uci.edu/~babaks/BWR/Home_files/birthwt.txt', sep = ' ') 
birthwt

birthwt [birthwt['ui'] == 1 ]

birthwt [birthwt['race'] == 1 ]

birthwt [birthwt['ht'] == 1 ]

birthwt [birthwt['smoke'] == 1 ]

#Use the same data here as in number 7.
birthwt.groupby(by = 'race').agg({'age': ['mean']})
#African-American has the youngest mother's in terms of average age

birthwt.groupby(by = 'smoke').agg({'bwt': ['max']})
# mothers that do not smoke is the highest 

birthwt.groupby(by = 'ht').agg({'bwt': ['mean']})
# 2536.750000 is the average weight for babies born from mothers who have a history of hypertension

birthwt.groupby(by = 'ht').agg({'bwt': ['mean']})

birthwt.groupby(by = ['smoke', 'ht']).agg({'lwt': ['mean']})
# 	180.200000 is the  heaviest on their last menstrual period, based on both smoking status and history of hypertension
